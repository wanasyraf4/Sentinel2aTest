{
 "cells": [
  {
   "cell_type": "code",
   "execution_count": 1,
   "metadata": {},
   "outputs": [],
   "source": [
    "import ee\n",
    "\n",
    "# # Trigger the authentication flow.\n",
    "# ee.Authenticate()\n",
    "\n",
    "# Initialize the library.\n",
    "ee.Initialize()"
   ]
  },
  {
   "cell_type": "code",
   "execution_count": 2,
   "metadata": {},
   "outputs": [],
   "source": [
    "# Import the Folium library.\n",
    "import folium\n",
    "\n",
    "# Define a method for displaying Earth Engine image tiles to folium map.\n",
    "def add_ee_layer(self, ee_image_object, vis_params, name):\n",
    "  map_id_dict = ee.Image(ee_image_object).getMapId(vis_params)\n",
    "  folium.raster_layers.TileLayer(\n",
    "    tiles = map_id_dict['tile_fetcher'].url_format,\n",
    "    attr = 'Map Data &copy; <a href=\"https://earthengine.google.com/\">Google Earth Engine</a>',\n",
    "    name = name,\n",
    "    overlay = True,\n",
    "    control = True\n",
    "  ).add_to(self)\n",
    "\n",
    "# Add EE drawing method to folium.\n",
    "folium.Map.add_ee_layer = add_ee_layer"
   ]
  },
  {
   "cell_type": "code",
   "execution_count": 3,
   "metadata": {},
   "outputs": [],
   "source": [
    "geoJSON = {\n",
    "  \"type\": \"FeatureCollection\",\n",
    "  \"features\": [\n",
    "    {\n",
    "      \"type\": \"Feature\",\n",
    "      \"properties\": {},\n",
    "      \"geometry\": {\n",
    "        \"coordinates\": [\n",
    "          [\n",
    "            100.67799289874142,\n",
    "            6.339057689337892\n",
    "          ],\n",
    "          [\n",
    "            100.67596196772081,\n",
    "            6.3382887311459655\n",
    "          ],\n",
    "          [\n",
    "            100.67522051671278,\n",
    "            6.336943051553064\n",
    "          ],\n",
    "          [\n",
    "            100.67264155668596,\n",
    "            6.326561976772766\n",
    "          ],\n",
    "          [\n",
    "            100.6766711817279,\n",
    "            6.325216266618256\n",
    "          ],\n",
    "          [\n",
    "            100.67841197974587,\n",
    "            6.326369732679765\n",
    "          ],\n",
    "          [\n",
    "            100.68079751777259,\n",
    "            6.326241569910792\n",
    "          ],\n",
    "          [\n",
    "            100.68086199177264,\n",
    "            6.327010546046168\n",
    "          ],\n",
    "          [\n",
    "            100.68150673177979,\n",
    "            6.327491155548643\n",
    "          ],\n",
    "          [\n",
    "            100.68131330977798,\n",
    "            6.330374803178657\n",
    "          ],\n",
    "          [\n",
    "            100.68095870277352,\n",
    "            6.331047651975837\n",
    "          ],\n",
    "          [\n",
    "            100.68150673177979,\n",
    "            6.332201105017177\n",
    "          ],\n",
    "          [\n",
    "            100.68260278979051,\n",
    "            6.331496217353248\n",
    "          ],\n",
    "          [\n",
    "            100.68366661080216,\n",
    "            6.331303975096517\n",
    "          ],\n",
    "          [\n",
    "            100.684601483812,\n",
    "            6.331848661305088\n",
    "          ],\n",
    "          [\n",
    "            100.6842468768092,\n",
    "            6.332681709689936\n",
    "          ],\n",
    "          [\n",
    "            100.68518174981904,\n",
    "            6.3354051277208185\n",
    "          ],\n",
    "          [\n",
    "            100.68421463980837,\n",
    "            6.338160571336402\n",
    "          ],\n",
    "          [\n",
    "            100.6780251357423,\n",
    "            6.339057689337892\n",
    "          ]\n",
    "        ],\n",
    "        \"type\": \"LineString\"\n",
    "      }\n",
    "    }\n",
    "  ]\n",
    "}"
   ]
  },
  {
   "cell_type": "code",
   "execution_count": 4,
   "metadata": {},
   "outputs": [],
   "source": [
    "coords = geoJSON['features'][0]\\\n",
    "                ['geometry']\\\n",
    "                ['coordinates']\n",
    "aoi = ee.Geometry.Polygon(coords)"
   ]
  },
  {
   "cell_type": "code",
   "execution_count": 5,
   "metadata": {},
   "outputs": [],
   "source": [
    "copernicus = ee.Image(ee.ImageCollection('COPERNICUS/S3/OLCI') \\\n",
    "              .filterBounds(aoi) \\\n",
    "              .filterDate(ee.Date('2020-12-1'), ee.Date('2023-03-17'))  \\\n",
    "              .first()\\\n",
    "              .clip(aoi))"
   ]
  },
  {
   "cell_type": "code",
   "execution_count": 6,
   "metadata": {},
   "outputs": [
    {
     "data": {
      "text/plain": [
       "['Oa01_radiance',\n",
       " 'Oa02_radiance',\n",
       " 'Oa03_radiance',\n",
       " 'Oa04_radiance',\n",
       " 'Oa05_radiance',\n",
       " 'Oa06_radiance',\n",
       " 'Oa07_radiance',\n",
       " 'Oa08_radiance',\n",
       " 'Oa09_radiance',\n",
       " 'Oa10_radiance',\n",
       " 'Oa11_radiance',\n",
       " 'Oa12_radiance',\n",
       " 'Oa13_radiance',\n",
       " 'Oa14_radiance',\n",
       " 'Oa15_radiance',\n",
       " 'Oa16_radiance',\n",
       " 'Oa17_radiance',\n",
       " 'Oa18_radiance',\n",
       " 'Oa19_radiance',\n",
       " 'Oa20_radiance',\n",
       " 'Oa21_radiance',\n",
       " 'quality_flags']"
      ]
     },
     "execution_count": 6,
     "metadata": {},
     "output_type": "execute_result"
    }
   ],
   "source": [
    "copernicus.bandNames().getInfo()"
   ]
  },
  {
   "cell_type": "code",
   "execution_count": 7,
   "metadata": {},
   "outputs": [
    {
     "data": {
      "text/html": [
       "<img src=\"https://earthengine.googleapis.com/v1alpha/projects/earthengine-legacy/thumbnails/5c1d51044b78522aeee7fa0e9a120277-f75f56e60005f96118b12f4b645ce954:getPixels\" width=\"800\"/>"
      ],
      "text/plain": [
       "<IPython.core.display.Image object>"
      ]
     },
     "execution_count": 7,
     "metadata": {},
     "output_type": "execute_result"
    }
   ],
   "source": [
    "import IPython.display as disp\n",
    "\n",
    "url = copernicus.select('Oa18_radiance').getThumbURL({'min': -5000, 'max': 5000})\n",
    "disp.Image(url=url, width=800)"
   ]
  },
  {
   "cell_type": "code",
   "execution_count": 26,
   "metadata": {},
   "outputs": [
    {
     "data": {
      "text/plain": [
       "['VV', 'VH', 'angle']"
      ]
     },
     "execution_count": 26,
     "metadata": {},
     "output_type": "execute_result"
    }
   ],
   "source": [
    "sentinel5 = ee.Image(ee.ImageCollection('COPERNICUS/S1_GRD') \\\n",
    "              .filterBounds(aoi) \\\n",
    "              .filterDate(ee.Date('2020-12-1'), ee.Date('2023-02-17'))  \\\n",
    "              .first()\\\n",
    "              .clip(aoi))\n",
    "\n",
    "sentinel5.bandNames().getInfo()"
   ]
  },
  {
   "cell_type": "code",
   "execution_count": 28,
   "metadata": {},
   "outputs": [
    {
     "data": {
      "text/html": [
       "<img src=\"https://earthengine.googleapis.com/v1alpha/projects/earthengine-legacy/thumbnails/fd245e4793eb5586dba3a85db533a1ef-ed994a9013087c4fef4217c275793aee:getPixels\" width=\"800\"/>"
      ],
      "text/plain": [
       "<IPython.core.display.Image object>"
      ]
     },
     "execution_count": 28,
     "metadata": {},
     "output_type": "execute_result"
    }
   ],
   "source": [
    "import IPython.display as disp\n",
    "\n",
    "url = sentinel5.select('VH').getThumbURL({'min': -5000, 'max': 5000})\n",
    "disp.Image(url=url, width=800)"
   ]
  },
  {
   "cell_type": "code",
   "execution_count": 45,
   "metadata": {},
   "outputs": [
    {
     "data": {
      "text/html": [
       "<div style=\"width:100%;\"><div style=\"position:relative;width:100%;height:0;padding-bottom:60%;\"><span style=\"color:#565656\">Make this Notebook Trusted to load map: File -> Trust Notebook</span><iframe srcdoc=\"&lt;!DOCTYPE html&gt;\n",
       "&lt;html&gt;\n",
       "&lt;head&gt;\n",
       "    \n",
       "    &lt;meta http-equiv=&quot;content-type&quot; content=&quot;text/html; charset=UTF-8&quot; /&gt;\n",
       "    \n",
       "        &lt;script&gt;\n",
       "            L_NO_TOUCH = false;\n",
       "            L_DISABLE_3D = false;\n",
       "        &lt;/script&gt;\n",
       "    \n",
       "    &lt;style&gt;html, body {width: 100%;height: 100%;margin: 0;padding: 0;}&lt;/style&gt;\n",
       "    &lt;style&gt;#map {position:absolute;top:0;bottom:0;right:0;left:0;}&lt;/style&gt;\n",
       "    &lt;script src=&quot;https://cdn.jsdelivr.net/npm/leaflet@1.9.3/dist/leaflet.js&quot;&gt;&lt;/script&gt;\n",
       "    &lt;script src=&quot;https://code.jquery.com/jquery-1.12.4.min.js&quot;&gt;&lt;/script&gt;\n",
       "    &lt;script src=&quot;https://cdn.jsdelivr.net/npm/bootstrap@5.2.2/dist/js/bootstrap.bundle.min.js&quot;&gt;&lt;/script&gt;\n",
       "    &lt;script src=&quot;https://cdnjs.cloudflare.com/ajax/libs/Leaflet.awesome-markers/2.0.2/leaflet.awesome-markers.js&quot;&gt;&lt;/script&gt;\n",
       "    &lt;link rel=&quot;stylesheet&quot; href=&quot;https://cdn.jsdelivr.net/npm/leaflet@1.9.3/dist/leaflet.css&quot;/&gt;\n",
       "    &lt;link rel=&quot;stylesheet&quot; href=&quot;https://cdn.jsdelivr.net/npm/bootstrap@5.2.2/dist/css/bootstrap.min.css&quot;/&gt;\n",
       "    &lt;link rel=&quot;stylesheet&quot; href=&quot;https://netdna.bootstrapcdn.com/bootstrap/3.0.0/css/bootstrap.min.css&quot;/&gt;\n",
       "    &lt;link rel=&quot;stylesheet&quot; href=&quot;https://cdn.jsdelivr.net/npm/@fortawesome/fontawesome-free@6.2.0/css/all.min.css&quot;/&gt;\n",
       "    &lt;link rel=&quot;stylesheet&quot; href=&quot;https://cdnjs.cloudflare.com/ajax/libs/Leaflet.awesome-markers/2.0.2/leaflet.awesome-markers.css&quot;/&gt;\n",
       "    &lt;link rel=&quot;stylesheet&quot; href=&quot;https://cdn.jsdelivr.net/gh/python-visualization/folium/folium/templates/leaflet.awesome.rotate.min.css&quot;/&gt;\n",
       "    \n",
       "            &lt;meta name=&quot;viewport&quot; content=&quot;width=device-width,\n",
       "                initial-scale=1.0, maximum-scale=1.0, user-scalable=no&quot; /&gt;\n",
       "            &lt;style&gt;\n",
       "                #map_d00570c5d240e9af69fa12bd97a91191 {\n",
       "                    position: relative;\n",
       "                    width: 100.0%;\n",
       "                    height: 100.0%;\n",
       "                    left: 0.0%;\n",
       "                    top: 0.0%;\n",
       "                }\n",
       "                .leaflet-container { font-size: 1rem; }\n",
       "            &lt;/style&gt;\n",
       "        \n",
       "&lt;/head&gt;\n",
       "&lt;body&gt;\n",
       "    \n",
       "    \n",
       "            &lt;div class=&quot;folium-map&quot; id=&quot;map_d00570c5d240e9af69fa12bd97a91191&quot; &gt;&lt;/div&gt;\n",
       "        \n",
       "&lt;/body&gt;\n",
       "&lt;script&gt;\n",
       "    \n",
       "    \n",
       "            var map_d00570c5d240e9af69fa12bd97a91191 = L.map(\n",
       "                &quot;map_d00570c5d240e9af69fa12bd97a91191&quot;,\n",
       "                {\n",
       "                    center: [6.332517055724515, 100.67868801025419],\n",
       "                    crs: L.CRS.EPSG3857,\n",
       "                    zoom: 12,\n",
       "                    zoomControl: true,\n",
       "                    preferCanvas: false,\n",
       "                }\n",
       "            );\n",
       "\n",
       "            \n",
       "\n",
       "        \n",
       "    \n",
       "            var tile_layer_6806c8517d872031d05b30e811e58d89 = L.tileLayer(\n",
       "                &quot;https://{s}.tile.openstreetmap.org/{z}/{x}/{y}.png&quot;,\n",
       "                {&quot;attribution&quot;: &quot;Data by \\u0026copy; \\u003ca target=\\&quot;_blank\\&quot; href=\\&quot;http://openstreetmap.org\\&quot;\\u003eOpenStreetMap\\u003c/a\\u003e, under \\u003ca target=\\&quot;_blank\\&quot; href=\\&quot;http://www.openstreetmap.org/copyright\\&quot;\\u003eODbL\\u003c/a\\u003e.&quot;, &quot;detectRetina&quot;: false, &quot;maxNativeZoom&quot;: 18, &quot;maxZoom&quot;: 18, &quot;minZoom&quot;: 0, &quot;noWrap&quot;: false, &quot;opacity&quot;: 1, &quot;subdomains&quot;: &quot;abc&quot;, &quot;tms&quot;: false}\n",
       "            ).addTo(map_d00570c5d240e9af69fa12bd97a91191);\n",
       "        \n",
       "    \n",
       "            var tile_layer_caca86ea506de2f0824988e66393a8b3 = L.tileLayer(\n",
       "                &quot;https://earthengine.googleapis.com/v1alpha/projects/earthengine-legacy/maps/2318a05a7d1251bbad0e4f9bb7ac032f-0ca686d512e667108da5c63da42610eb/tiles/{z}/{x}/{y}&quot;,\n",
       "                {&quot;attribution&quot;: &quot;Map Data \\u0026copy; \\u003ca href=\\&quot;https://earthengine.google.com/\\&quot;\\u003eGoogle Earth Engine\\u003c/a\\u003e&quot;, &quot;detectRetina&quot;: false, &quot;maxNativeZoom&quot;: 18, &quot;maxZoom&quot;: 18, &quot;minZoom&quot;: 0, &quot;noWrap&quot;: false, &quot;opacity&quot;: 1, &quot;subdomains&quot;: &quot;abc&quot;, &quot;tms&quot;: false}\n",
       "            ).addTo(map_d00570c5d240e9af69fa12bd97a91191);\n",
       "        \n",
       "    \n",
       "            var layer_control_32df4ea577e67754575e05f7786cd82b = {\n",
       "                base_layers : {\n",
       "                    &quot;openstreetmap&quot; : tile_layer_6806c8517d872031d05b30e811e58d89,\n",
       "                },\n",
       "                overlays :  {\n",
       "                    &quot;Chl absorption max., biogeochemistry, vegetation&quot; : tile_layer_caca86ea506de2f0824988e66393a8b3,\n",
       "                },\n",
       "            };\n",
       "            L.control.layers(\n",
       "                layer_control_32df4ea577e67754575e05f7786cd82b.base_layers,\n",
       "                layer_control_32df4ea577e67754575e05f7786cd82b.overlays,\n",
       "                {&quot;autoZIndex&quot;: true, &quot;collapsed&quot;: true, &quot;position&quot;: &quot;topright&quot;}\n",
       "            ).addTo(map_d00570c5d240e9af69fa12bd97a91191);\n",
       "        \n",
       "&lt;/script&gt;\n",
       "&lt;/html&gt;\" style=\"position:absolute;width:100%;height:100%;left:0;top:0;border:none !important;\" allowfullscreen webkitallowfullscreen mozallowfullscreen></iframe></div></div>"
      ],
      "text/plain": [
       "<folium.folium.Map at 0x1b2eaf3d550>"
      ]
     },
     "metadata": {},
     "output_type": "display_data"
    }
   ],
   "source": [
    "location = aoi.centroid().coordinates().getInfo()[::-1]\n",
    "\n",
    "# Make an RGB color composite image (VV,VH,VV/VH).\n",
    "rgb = ee.Image.rgb(copernicus.select('Oa18_radiance'),\n",
    "                   sentinel5.select('VH'),\n",
    "                   copernicus.select('Oa02_radiance').divide(sentinel5.select('VV')))\n",
    "\n",
    "\n",
    "# Create the map object.\n",
    "m = folium.Map(location=location, zoom_start=12)\n",
    "\n",
    "# Add the S1 rgb composite to the map object.\n",
    "m.add_ee_layer(rgb, {'min': [0, -20, -20], 'max': [0, 1, 1]}, 'Chl absorption max., biogeochemistry, vegetation')\n",
    "\n",
    "# Add a layer control panel to the map.\n",
    "m.add_child(folium.LayerControl())\n",
    "\n",
    "# Display the map.\n",
    "display(m)"
   ]
  },
  {
   "cell_type": "code",
   "execution_count": 11,
   "metadata": {},
   "outputs": [
    {
     "data": {
      "text/plain": [
       "folium.folium.Map"
      ]
     },
     "execution_count": 11,
     "metadata": {},
     "output_type": "execute_result"
    }
   ],
   "source": [
    "type(m)"
   ]
  },
  {
   "cell_type": "code",
   "execution_count": 12,
   "metadata": {},
   "outputs": [],
   "source": [
    "import pandas as pd\n",
    "\n"
   ]
  },
  {
   "cell_type": "code",
   "execution_count": 13,
   "metadata": {},
   "outputs": [],
   "source": [
    "import numpy as np\n",
    "\n",
    "# Load a Sentinel-2 surface reflectance image collection and filter by location and date, and select the B8 band\n",
    "collection = ee.ImageCollection('COPERNICUS/S2_SR_HARMONIZED') \\\n",
    "              .filterBounds(aoi) \\\n",
    "              .filterDate('2020-01-01', '2020-12-31') \\\n",
    "              .select('B8','B11','B12')\n",
    "\n",
    "# Get the first image in the collection and clip it to the AOI\n",
    "image = collection.first().clip(aoi)\n",
    "\n",
    "# Get the mean B8 value for all the pixels within the AOI\n",
    "b8_value = image.select('B8').reduceRegion(ee.Reducer.toList(), aoi, 30).get('B8')\n",
    "b11_value = image.select('B11').reduceRegion(ee.Reducer.toList(), aoi, 30).get('B11')\n",
    "b12_value = image.select('B12').reduceRegion(ee.Reducer.toList(), aoi, 30).get('B12')\n",
    "\n",
    "NDVI8 = np.array(b8_value.getInfo())/8000\n",
    "NDVI11 = np.array(b11_value.getInfo())/8000\n",
    "NDVI12 = np.array(b12_value.getInfo())/8000  \n",
    "# # Print the mean B8 value\n",
    "# print('Mean B8 value: ', b8_value.getInfo())"
   ]
  },
  {
   "cell_type": "code",
   "execution_count": 14,
   "metadata": {},
   "outputs": [
    {
     "data": {
      "text/plain": [
       "array([0.209   , 0.196375, 0.1775  , 0.121375, 0.10075 , 0.099625,\n",
       "       0.0995  , 0.103125, 0.1095  , 0.121125, 0.126375, 0.125875,\n",
       "       0.12075 , 0.076125, 0.035125, 0.0335  , 0.031125, 0.03025 ,\n",
       "       0.03275 , 0.028375, 0.036   , 0.0475  , 0.082625, 0.134   ,\n",
       "       0.19175 , 0.2035  , 0.222   , 0.200625, 0.146875, 0.19775 ,\n",
       "       0.18025 , 0.21875 , 0.13475 , 0.11275 , 0.10775 , 0.093125,\n",
       "       0.093   , 0.09825 , 0.101   , 0.097   , 0.115   , 0.12125 ,\n",
       "       0.10725 , 0.0365  , 0.03425 , 0.03025 , 0.030875, 0.0295  ,\n",
       "       0.025875, 0.02725 , 0.03175 , 0.0585  , 0.08025 , 0.152375,\n",
       "       0.13375 , 0.1255  , 0.114625, 0.132   , 0.208375, 0.182375,\n",
       "       0.183125, 0.13425 , 0.120375, 0.112625, 0.09625 , 0.09975 ,\n",
       "       0.0975  , 0.10125 , 0.094625, 0.11125 , 0.111   , 0.11    ,\n",
       "       0.04875 , 0.03575 , 0.030875, 0.032   , 0.028875, 0.026125,\n",
       "       0.02725 , 0.02875 , 0.051625, 0.06325 , 0.0885  , 0.102   ,\n",
       "       0.096   , 0.089   , 0.127875, 0.2705  , 0.251125, 0.165375,\n",
       "       0.129125, 0.12325 , 0.119125, 0.113875, 0.13025 , 0.1045  ,\n",
       "       0.1015  , 0.144   , 0.152125, 0.17075 , 0.14275 , 0.096   ,\n",
       "       0.07    , 0.0325  , 0.032125, 0.03125 , 0.0305  , 0.030875,\n",
       "       0.030875, 0.046875, 0.04625 , 0.051125, 0.0755  , 0.082375,\n",
       "       0.0835  , 0.154   , 0.204   , 0.287125, 0.298125, 0.177125,\n",
       "       0.128625, 0.127875, 0.1135  , 0.09875 , 0.128125, 0.105625,\n",
       "       0.106875, 0.181875, 0.180625, 0.229   , 0.203125, 0.175875,\n",
       "       0.131625, 0.040375, 0.03525 , 0.032875, 0.032625, 0.02975 ,\n",
       "       0.031125, 0.042   , 0.042   , 0.042375, 0.0605  , 0.071   ,\n",
       "       0.087375, 0.154625, 0.20175 , 0.142875, 0.14625 , 0.1695  ,\n",
       "       0.1385  , 0.187125, 0.177875, 0.199625, 0.209625, 0.219375,\n",
       "       0.20425 , 0.194   , 0.19475 , 0.21275 , 0.229625, 0.274875,\n",
       "       0.25075 , 0.086375, 0.05    , 0.035   , 0.031875, 0.029625,\n",
       "       0.0295  , 0.0305  , 0.032   , 0.03075 , 0.030125, 0.0575  ,\n",
       "       0.088375, 0.18725 , 0.213625, 0.184125, 0.140375, 0.116125,\n",
       "       0.1245  , 0.307125, 0.325875, 0.272625, 0.243625, 0.232125,\n",
       "       0.226875, 0.212   , 0.194375, 0.127625, 0.143375, 0.193875,\n",
       "       0.200625, 0.084125, 0.051125, 0.039125, 0.033375, 0.031625,\n",
       "       0.032125, 0.0295  , 0.030875, 0.027875, 0.027375, 0.05    ,\n",
       "       0.08925 , 0.212625, 0.193625, 0.166125, 0.141125, 0.104   ,\n",
       "       0.079375, 0.100625, 0.29625 , 0.347375, 0.2005  , 0.184   ,\n",
       "       0.195875, 0.206125, 0.21    , 0.160375, 0.092875, 0.091125,\n",
       "       0.088125, 0.080625, 0.05325 , 0.05375 , 0.036375, 0.03425 ,\n",
       "       0.04675 , 0.040125, 0.031875, 0.029875, 0.0285  , 0.028   ,\n",
       "       0.033875, 0.06575 , 0.189   , 0.19825 , 0.1885  , 0.142375,\n",
       "       0.1085  , 0.09775 , 0.08325 , 0.090375, 0.198875, 0.203875,\n",
       "       0.129625, 0.1225  , 0.131875, 0.133625, 0.11525 , 0.08925 ,\n",
       "       0.088125, 0.086   , 0.084125, 0.074125, 0.06275 , 0.064875,\n",
       "       0.044   , 0.03725 , 0.04475 , 0.03875 , 0.030375, 0.030375,\n",
       "       0.029375, 0.02825 , 0.03025 , 0.051875, 0.141375, 0.17025 ,\n",
       "       0.18675 , 0.14775 , 0.107625, 0.1075  , 0.089875, 0.063875,\n",
       "       0.05725 , 0.068   , 0.081125, 0.092   , 0.101   , 0.107625,\n",
       "       0.069125, 0.05675 , 0.066875, 0.06575 , 0.075625, 0.071625,\n",
       "       0.055625, 0.085875, 0.07275 , 0.056125, 0.059625, 0.05025 ,\n",
       "       0.027875, 0.028375, 0.02975 , 0.03    , 0.042625, 0.053125,\n",
       "       0.0745  , 0.085125, 0.142   , 0.116125, 0.10875 , 0.098625,\n",
       "       0.077875, 0.063375, 0.043125, 0.05075 , 0.0745  , 0.07525 ,\n",
       "       0.087   , 0.100375, 0.066625, 0.056   , 0.072   , 0.0695  ,\n",
       "       0.075125, 0.070875, 0.055   , 0.071625, 0.095625, 0.07275 ,\n",
       "       0.079   , 0.068625, 0.033625, 0.030625, 0.031   , 0.03175 ,\n",
       "       0.042   , 0.05375 , 0.079125, 0.081   , 0.112625, 0.110625,\n",
       "       0.096125, 0.11025 , 0.062625, 0.05    , 0.03625 , 0.03775 ,\n",
       "       0.0585  , 0.054125, 0.03925 , 0.049625, 0.07725 , 0.082125,\n",
       "       0.100875, 0.104625, 0.0775  , 0.064125, 0.07525 , 0.076625,\n",
       "       0.165625, 0.14925 , 0.071125, 0.06    , 0.05775 , 0.04875 ,\n",
       "       0.036625, 0.032125, 0.0405  , 0.055125, 0.18175 , 0.093125,\n",
       "       0.10175 , 0.097375, 0.11925 , 0.05725 , 0.041875, 0.034375,\n",
       "       0.0345  , 0.04375 , 0.040875, 0.03225 , 0.039125, 0.078125,\n",
       "       0.082625, 0.09925 , 0.09775 , 0.074125, 0.063   , 0.072625,\n",
       "       0.07925 , 0.1565  , 0.19175 , 0.085125, 0.08025 , 0.0785  ,\n",
       "       0.054375, 0.040125, 0.034625, 0.034125, 0.136625, 0.1035  ,\n",
       "       0.104125, 0.103   , 0.101875, 0.06525 , 0.04025 , 0.030875,\n",
       "       0.02925 , 0.03025 , 0.02975 , 0.02975 , 0.03275 , 0.046   ,\n",
       "       0.05425 , 0.078625, 0.0815  , 0.058625, 0.065875, 0.144125,\n",
       "       0.17225 , 0.1475  , 0.19225 , 0.1735  , 0.15    , 0.092875,\n",
       "       0.072125, 0.071875, 0.04675 , 0.04475 , 0.10025 , 0.10875 ,\n",
       "       0.1025  , 0.07325 , 0.04325 , 0.031375, 0.028875, 0.029125,\n",
       "       0.03025 , 0.03075 , 0.032625, 0.0395  , 0.044875, 0.07275 ,\n",
       "       0.076375, 0.060375, 0.0745  , 0.171125, 0.16825 , 0.123875,\n",
       "       0.184875, 0.218375, 0.180125, 0.09825 , 0.09    , 0.0745  ,\n",
       "       0.058625, 0.0725  , 0.084125, 0.052   , 0.032375, 0.03175 ,\n",
       "       0.032   , 0.035875, 0.047625, 0.054125, 0.048375, 0.052625,\n",
       "       0.07025 , 0.076875, 0.073125, 0.090125, 0.177625, 0.034   ,\n",
       "       0.033875, 0.047875, 0.06525 , 0.070625, 0.067125, 0.067125,\n",
       "       0.069875, 0.076625, 0.086375, 0.097   , 0.08575 , 0.081875,\n",
       "       0.079125, 0.067625, 0.044375, 0.064625, 0.06875 , 0.046625])"
      ]
     },
     "execution_count": 14,
     "metadata": {},
     "output_type": "execute_result"
    }
   ],
   "source": [
    "NDVI12"
   ]
  },
  {
   "cell_type": "code",
   "execution_count": 15,
   "metadata": {},
   "outputs": [],
   "source": [
    "LS9 = ee.Image(ee.ImageCollection('LANDSAT/LC09/C02/T2_L2') \n",
    "                       .filterBounds(aoi) \n",
    "                       .filterDate(ee.Date('2020-01-1'), ee.Date('2023-03-17')) \n",
    "                       .first() \n",
    "                       .clip(aoi))"
   ]
  },
  {
   "cell_type": "code",
   "execution_count": 16,
   "metadata": {},
   "outputs": [
    {
     "data": {
      "text/plain": [
       "['SR_B1',\n",
       " 'SR_B2',\n",
       " 'SR_B3',\n",
       " 'SR_B4',\n",
       " 'SR_B5',\n",
       " 'SR_B6',\n",
       " 'SR_B7',\n",
       " 'SR_QA_AEROSOL',\n",
       " 'ST_B10',\n",
       " 'ST_ATRAN',\n",
       " 'ST_CDIST',\n",
       " 'ST_DRAD',\n",
       " 'ST_EMIS',\n",
       " 'ST_EMSD',\n",
       " 'ST_QA',\n",
       " 'ST_TRAD',\n",
       " 'ST_URAD',\n",
       " 'QA_PIXEL',\n",
       " 'QA_RADSAT']"
      ]
     },
     "execution_count": 16,
     "metadata": {},
     "output_type": "execute_result"
    }
   ],
   "source": [
    "LS9.bandNames().getInfo()"
   ]
  },
  {
   "cell_type": "code",
   "execution_count": 17,
   "metadata": {},
   "outputs": [
    {
     "data": {
      "text/html": [
       "<img src=\"https://earthengine.googleapis.com/v1alpha/projects/earthengine-legacy/thumbnails/174786b516539ada7197fea272b54c3e-c511831f3023cded54c05f39e2ea4865:getPixels\" width=\"800\"/>"
      ],
      "text/plain": [
       "<IPython.core.display.Image object>"
      ]
     },
     "execution_count": 17,
     "metadata": {},
     "output_type": "execute_result"
    }
   ],
   "source": [
    "import IPython.display as disp\n",
    "\n",
    "url = LS9.select('SR_B5').getThumbURL({'min': -1000, 'max': 5000})\n",
    "disp.Image(url=url, width=800)"
   ]
  },
  {
   "cell_type": "code",
   "execution_count": 18,
   "metadata": {},
   "outputs": [
    {
     "data": {
      "text/html": [
       "<div style=\"width:100%;\"><div style=\"position:relative;width:100%;height:0;padding-bottom:60%;\"><span style=\"color:#565656\">Make this Notebook Trusted to load map: File -> Trust Notebook</span><iframe srcdoc=\"&lt;!DOCTYPE html&gt;\n",
       "&lt;html&gt;\n",
       "&lt;head&gt;\n",
       "    \n",
       "    &lt;meta http-equiv=&quot;content-type&quot; content=&quot;text/html; charset=UTF-8&quot; /&gt;\n",
       "    \n",
       "        &lt;script&gt;\n",
       "            L_NO_TOUCH = false;\n",
       "            L_DISABLE_3D = false;\n",
       "        &lt;/script&gt;\n",
       "    \n",
       "    &lt;style&gt;html, body {width: 100%;height: 100%;margin: 0;padding: 0;}&lt;/style&gt;\n",
       "    &lt;style&gt;#map {position:absolute;top:0;bottom:0;right:0;left:0;}&lt;/style&gt;\n",
       "    &lt;script src=&quot;https://cdn.jsdelivr.net/npm/leaflet@1.9.3/dist/leaflet.js&quot;&gt;&lt;/script&gt;\n",
       "    &lt;script src=&quot;https://code.jquery.com/jquery-1.12.4.min.js&quot;&gt;&lt;/script&gt;\n",
       "    &lt;script src=&quot;https://cdn.jsdelivr.net/npm/bootstrap@5.2.2/dist/js/bootstrap.bundle.min.js&quot;&gt;&lt;/script&gt;\n",
       "    &lt;script src=&quot;https://cdnjs.cloudflare.com/ajax/libs/Leaflet.awesome-markers/2.0.2/leaflet.awesome-markers.js&quot;&gt;&lt;/script&gt;\n",
       "    &lt;link rel=&quot;stylesheet&quot; href=&quot;https://cdn.jsdelivr.net/npm/leaflet@1.9.3/dist/leaflet.css&quot;/&gt;\n",
       "    &lt;link rel=&quot;stylesheet&quot; href=&quot;https://cdn.jsdelivr.net/npm/bootstrap@5.2.2/dist/css/bootstrap.min.css&quot;/&gt;\n",
       "    &lt;link rel=&quot;stylesheet&quot; href=&quot;https://netdna.bootstrapcdn.com/bootstrap/3.0.0/css/bootstrap.min.css&quot;/&gt;\n",
       "    &lt;link rel=&quot;stylesheet&quot; href=&quot;https://cdn.jsdelivr.net/npm/@fortawesome/fontawesome-free@6.2.0/css/all.min.css&quot;/&gt;\n",
       "    &lt;link rel=&quot;stylesheet&quot; href=&quot;https://cdnjs.cloudflare.com/ajax/libs/Leaflet.awesome-markers/2.0.2/leaflet.awesome-markers.css&quot;/&gt;\n",
       "    &lt;link rel=&quot;stylesheet&quot; href=&quot;https://cdn.jsdelivr.net/gh/python-visualization/folium/folium/templates/leaflet.awesome.rotate.min.css&quot;/&gt;\n",
       "    \n",
       "            &lt;meta name=&quot;viewport&quot; content=&quot;width=device-width,\n",
       "                initial-scale=1.0, maximum-scale=1.0, user-scalable=no&quot; /&gt;\n",
       "            &lt;style&gt;\n",
       "                #map_d55fdd2f59f3d0aebe054cf0a175c997 {\n",
       "                    position: relative;\n",
       "                    width: 100.0%;\n",
       "                    height: 100.0%;\n",
       "                    left: 0.0%;\n",
       "                    top: 0.0%;\n",
       "                }\n",
       "                .leaflet-container { font-size: 1rem; }\n",
       "            &lt;/style&gt;\n",
       "        \n",
       "&lt;/head&gt;\n",
       "&lt;body&gt;\n",
       "    \n",
       "    \n",
       "            &lt;div class=&quot;folium-map&quot; id=&quot;map_d55fdd2f59f3d0aebe054cf0a175c997&quot; &gt;&lt;/div&gt;\n",
       "        \n",
       "&lt;/body&gt;\n",
       "&lt;script&gt;\n",
       "    \n",
       "    \n",
       "            var map_d55fdd2f59f3d0aebe054cf0a175c997 = L.map(\n",
       "                &quot;map_d55fdd2f59f3d0aebe054cf0a175c997&quot;,\n",
       "                {\n",
       "                    center: [6.332517055724515, 100.67868801025419],\n",
       "                    crs: L.CRS.EPSG3857,\n",
       "                    zoom: 12,\n",
       "                    zoomControl: true,\n",
       "                    preferCanvas: false,\n",
       "                }\n",
       "            );\n",
       "\n",
       "            \n",
       "\n",
       "        \n",
       "    \n",
       "            var tile_layer_cc3a387c83e38a6f5d7e4f43b866294f = L.tileLayer(\n",
       "                &quot;https://{s}.tile.openstreetmap.org/{z}/{x}/{y}.png&quot;,\n",
       "                {&quot;attribution&quot;: &quot;Data by \\u0026copy; \\u003ca target=\\&quot;_blank\\&quot; href=\\&quot;http://openstreetmap.org\\&quot;\\u003eOpenStreetMap\\u003c/a\\u003e, under \\u003ca target=\\&quot;_blank\\&quot; href=\\&quot;http://www.openstreetmap.org/copyright\\&quot;\\u003eODbL\\u003c/a\\u003e.&quot;, &quot;detectRetina&quot;: false, &quot;maxNativeZoom&quot;: 18, &quot;maxZoom&quot;: 18, &quot;minZoom&quot;: 0, &quot;noWrap&quot;: false, &quot;opacity&quot;: 1, &quot;subdomains&quot;: &quot;abc&quot;, &quot;tms&quot;: false}\n",
       "            ).addTo(map_d55fdd2f59f3d0aebe054cf0a175c997);\n",
       "        \n",
       "    \n",
       "            var tile_layer_67cdedd94f4318159c385a7677a81b28 = L.tileLayer(\n",
       "                &quot;https://earthengine.googleapis.com/v1alpha/projects/earthengine-legacy/maps/ccb8cc33046a1f1aa732df9271ac9c64-0bd3b63701d95441d65e61e38b3cade4/tiles/{z}/{x}/{y}&quot;,\n",
       "                {&quot;attribution&quot;: &quot;Map Data \\u0026copy; \\u003ca href=\\&quot;https://earthengine.google.com/\\&quot;\\u003eGoogle Earth Engine\\u003c/a\\u003e&quot;, &quot;detectRetina&quot;: false, &quot;maxNativeZoom&quot;: 18, &quot;maxZoom&quot;: 18, &quot;minZoom&quot;: 0, &quot;noWrap&quot;: false, &quot;opacity&quot;: 1, &quot;subdomains&quot;: &quot;abc&quot;, &quot;tms&quot;: false}\n",
       "            ).addTo(map_d55fdd2f59f3d0aebe054cf0a175c997);\n",
       "        \n",
       "    \n",
       "            var layer_control_4b1955b2cfb7feda3455d74f773f82bf = {\n",
       "                base_layers : {\n",
       "                    &quot;openstreetmap&quot; : tile_layer_cc3a387c83e38a6f5d7e4f43b866294f,\n",
       "                },\n",
       "                overlays :  {\n",
       "                    &quot;NDVI Overlay&quot; : tile_layer_67cdedd94f4318159c385a7677a81b28,\n",
       "                },\n",
       "            };\n",
       "            L.control.layers(\n",
       "                layer_control_4b1955b2cfb7feda3455d74f773f82bf.base_layers,\n",
       "                layer_control_4b1955b2cfb7feda3455d74f773f82bf.overlays,\n",
       "                {&quot;autoZIndex&quot;: true, &quot;collapsed&quot;: true, &quot;position&quot;: &quot;topright&quot;}\n",
       "            ).addTo(map_d55fdd2f59f3d0aebe054cf0a175c997);\n",
       "        \n",
       "&lt;/script&gt;\n",
       "&lt;/html&gt;\" style=\"position:absolute;width:100%;height:100%;left:0;top:0;border:none !important;\" allowfullscreen webkitallowfullscreen mozallowfullscreen></iframe></div></div>"
      ],
      "text/plain": [
       "<folium.folium.Map at 0x1b2d1094810>"
      ]
     },
     "metadata": {},
     "output_type": "display_data"
    }
   ],
   "source": [
    "location = aoi.centroid().coordinates().getInfo()[::-1]\n",
    "\n",
    "# Make an RGB color composite image (VV,VH,VV/VH).\n",
    "rgb = ee.Image.rgb(LS9.select('SR_B5'),\n",
    "                   LS9.select('SR_B2'),\n",
    "                   LS9.select('SR_B3').divide(LS9.select('SR_B5')))\n",
    "\n",
    "\n",
    "# Create the map object.\n",
    "m = folium.Map(location=location, zoom_start=12)\n",
    "\n",
    "# Add the S1 rgb composite to the map object.\n",
    "m.add_ee_layer(rgb, {'min': [0, -20, 0], 'max': [0, 1, 1]}, 'NDVI Overlay')\n",
    "\n",
    "# Add a layer control panel to the map.\n",
    "m.add_child(folium.LayerControl())\n",
    "\n",
    "# Display the map.\n",
    "display(m)"
   ]
  },
  {
   "cell_type": "code",
   "execution_count": 19,
   "metadata": {},
   "outputs": [],
   "source": [
    "MODIS_NVDI = ee.Image(ee.ImageCollection('MODIS/061/MOD13Q1') \n",
    "                       .filterBounds(aoi) \n",
    "                       .filterDate(ee.Date('2020-08-01'), ee.Date('2020-08-31')) \n",
    "                       .first() \n",
    "                       .clip(aoi))"
   ]
  },
  {
   "cell_type": "code",
   "execution_count": 20,
   "metadata": {},
   "outputs": [
    {
     "data": {
      "text/plain": [
       "['NDVI',\n",
       " 'EVI',\n",
       " 'DetailedQA',\n",
       " 'sur_refl_b01',\n",
       " 'sur_refl_b02',\n",
       " 'sur_refl_b03',\n",
       " 'sur_refl_b07',\n",
       " 'ViewZenith',\n",
       " 'SolarZenith',\n",
       " 'RelativeAzimuth',\n",
       " 'DayOfYear',\n",
       " 'SummaryQA']"
      ]
     },
     "execution_count": 20,
     "metadata": {},
     "output_type": "execute_result"
    }
   ],
   "source": [
    "MODIS_NVDI.bandNames().getInfo()"
   ]
  },
  {
   "cell_type": "code",
   "execution_count": 21,
   "metadata": {},
   "outputs": [
    {
     "data": {
      "text/html": [
       "<img src=\"https://earthengine.googleapis.com/v1alpha/projects/earthengine-legacy/thumbnails/fe5f4ce581166aaa486ca76d38947358-52d8cee8b1b3478e8b3b8056d7f7fa87:getPixels\" width=\"800\"/>"
      ],
      "text/plain": [
       "<IPython.core.display.Image object>"
      ]
     },
     "execution_count": 21,
     "metadata": {},
     "output_type": "execute_result"
    }
   ],
   "source": [
    "url = MODIS_NVDI.select('NDVI').getThumbURL({'min': -1000, 'max': 5000})\n",
    "disp.Image(url=url, width=800)"
   ]
  },
  {
   "cell_type": "code",
   "execution_count": 22,
   "metadata": {},
   "outputs": [
    {
     "data": {
      "text/html": [
       "<div style=\"width:100%;\"><div style=\"position:relative;width:100%;height:0;padding-bottom:60%;\"><span style=\"color:#565656\">Make this Notebook Trusted to load map: File -> Trust Notebook</span><iframe srcdoc=\"&lt;!DOCTYPE html&gt;\n",
       "&lt;html&gt;\n",
       "&lt;head&gt;\n",
       "    \n",
       "    &lt;meta http-equiv=&quot;content-type&quot; content=&quot;text/html; charset=UTF-8&quot; /&gt;\n",
       "    \n",
       "        &lt;script&gt;\n",
       "            L_NO_TOUCH = false;\n",
       "            L_DISABLE_3D = false;\n",
       "        &lt;/script&gt;\n",
       "    \n",
       "    &lt;style&gt;html, body {width: 100%;height: 100%;margin: 0;padding: 0;}&lt;/style&gt;\n",
       "    &lt;style&gt;#map {position:absolute;top:0;bottom:0;right:0;left:0;}&lt;/style&gt;\n",
       "    &lt;script src=&quot;https://cdn.jsdelivr.net/npm/leaflet@1.9.3/dist/leaflet.js&quot;&gt;&lt;/script&gt;\n",
       "    &lt;script src=&quot;https://code.jquery.com/jquery-1.12.4.min.js&quot;&gt;&lt;/script&gt;\n",
       "    &lt;script src=&quot;https://cdn.jsdelivr.net/npm/bootstrap@5.2.2/dist/js/bootstrap.bundle.min.js&quot;&gt;&lt;/script&gt;\n",
       "    &lt;script src=&quot;https://cdnjs.cloudflare.com/ajax/libs/Leaflet.awesome-markers/2.0.2/leaflet.awesome-markers.js&quot;&gt;&lt;/script&gt;\n",
       "    &lt;link rel=&quot;stylesheet&quot; href=&quot;https://cdn.jsdelivr.net/npm/leaflet@1.9.3/dist/leaflet.css&quot;/&gt;\n",
       "    &lt;link rel=&quot;stylesheet&quot; href=&quot;https://cdn.jsdelivr.net/npm/bootstrap@5.2.2/dist/css/bootstrap.min.css&quot;/&gt;\n",
       "    &lt;link rel=&quot;stylesheet&quot; href=&quot;https://netdna.bootstrapcdn.com/bootstrap/3.0.0/css/bootstrap.min.css&quot;/&gt;\n",
       "    &lt;link rel=&quot;stylesheet&quot; href=&quot;https://cdn.jsdelivr.net/npm/@fortawesome/fontawesome-free@6.2.0/css/all.min.css&quot;/&gt;\n",
       "    &lt;link rel=&quot;stylesheet&quot; href=&quot;https://cdnjs.cloudflare.com/ajax/libs/Leaflet.awesome-markers/2.0.2/leaflet.awesome-markers.css&quot;/&gt;\n",
       "    &lt;link rel=&quot;stylesheet&quot; href=&quot;https://cdn.jsdelivr.net/gh/python-visualization/folium/folium/templates/leaflet.awesome.rotate.min.css&quot;/&gt;\n",
       "    \n",
       "            &lt;meta name=&quot;viewport&quot; content=&quot;width=device-width,\n",
       "                initial-scale=1.0, maximum-scale=1.0, user-scalable=no&quot; /&gt;\n",
       "            &lt;style&gt;\n",
       "                #map_ac7c5c87a5ed96ea100fe35e6cfc3b6f {\n",
       "                    position: relative;\n",
       "                    width: 100.0%;\n",
       "                    height: 100.0%;\n",
       "                    left: 0.0%;\n",
       "                    top: 0.0%;\n",
       "                }\n",
       "                .leaflet-container { font-size: 1rem; }\n",
       "            &lt;/style&gt;\n",
       "        \n",
       "&lt;/head&gt;\n",
       "&lt;body&gt;\n",
       "    \n",
       "    \n",
       "            &lt;div class=&quot;folium-map&quot; id=&quot;map_ac7c5c87a5ed96ea100fe35e6cfc3b6f&quot; &gt;&lt;/div&gt;\n",
       "        \n",
       "&lt;/body&gt;\n",
       "&lt;script&gt;\n",
       "    \n",
       "    \n",
       "            var map_ac7c5c87a5ed96ea100fe35e6cfc3b6f = L.map(\n",
       "                &quot;map_ac7c5c87a5ed96ea100fe35e6cfc3b6f&quot;,\n",
       "                {\n",
       "                    center: [6.332517055724515, 100.67868801025419],\n",
       "                    crs: L.CRS.EPSG3857,\n",
       "                    zoom: 12,\n",
       "                    zoomControl: true,\n",
       "                    preferCanvas: false,\n",
       "                }\n",
       "            );\n",
       "\n",
       "            \n",
       "\n",
       "        \n",
       "    \n",
       "            var tile_layer_f2295ed69ea1279546db46d1b968a7e2 = L.tileLayer(\n",
       "                &quot;https://{s}.tile.openstreetmap.org/{z}/{x}/{y}.png&quot;,\n",
       "                {&quot;attribution&quot;: &quot;Data by \\u0026copy; \\u003ca target=\\&quot;_blank\\&quot; href=\\&quot;http://openstreetmap.org\\&quot;\\u003eOpenStreetMap\\u003c/a\\u003e, under \\u003ca target=\\&quot;_blank\\&quot; href=\\&quot;http://www.openstreetmap.org/copyright\\&quot;\\u003eODbL\\u003c/a\\u003e.&quot;, &quot;detectRetina&quot;: false, &quot;maxNativeZoom&quot;: 18, &quot;maxZoom&quot;: 18, &quot;minZoom&quot;: 0, &quot;noWrap&quot;: false, &quot;opacity&quot;: 1, &quot;subdomains&quot;: &quot;abc&quot;, &quot;tms&quot;: false}\n",
       "            ).addTo(map_ac7c5c87a5ed96ea100fe35e6cfc3b6f);\n",
       "        \n",
       "    \n",
       "            var tile_layer_ed07eba2d21a581437cd15032a12e1bb = L.tileLayer(\n",
       "                &quot;https://earthengine.googleapis.com/v1alpha/projects/earthengine-legacy/maps/6bc1c4e663227f827c6d9205e1ac9507-1f06f9b8b817a14cb70650fa453513d5/tiles/{z}/{x}/{y}&quot;,\n",
       "                {&quot;attribution&quot;: &quot;Map Data \\u0026copy; \\u003ca href=\\&quot;https://earthengine.google.com/\\&quot;\\u003eGoogle Earth Engine\\u003c/a\\u003e&quot;, &quot;detectRetina&quot;: false, &quot;maxNativeZoom&quot;: 18, &quot;maxZoom&quot;: 18, &quot;minZoom&quot;: 0, &quot;noWrap&quot;: false, &quot;opacity&quot;: 1, &quot;subdomains&quot;: &quot;abc&quot;, &quot;tms&quot;: false}\n",
       "            ).addTo(map_ac7c5c87a5ed96ea100fe35e6cfc3b6f);\n",
       "        \n",
       "    \n",
       "            var layer_control_f18b39b5ef941e7d1bbd110845573b19 = {\n",
       "                base_layers : {\n",
       "                    &quot;openstreetmap&quot; : tile_layer_f2295ed69ea1279546db46d1b968a7e2,\n",
       "                },\n",
       "                overlays :  {\n",
       "                    &quot;Enhanced Vegetation Index&quot; : tile_layer_ed07eba2d21a581437cd15032a12e1bb,\n",
       "                },\n",
       "            };\n",
       "            L.control.layers(\n",
       "                layer_control_f18b39b5ef941e7d1bbd110845573b19.base_layers,\n",
       "                layer_control_f18b39b5ef941e7d1bbd110845573b19.overlays,\n",
       "                {&quot;autoZIndex&quot;: true, &quot;collapsed&quot;: true, &quot;position&quot;: &quot;topright&quot;}\n",
       "            ).addTo(map_ac7c5c87a5ed96ea100fe35e6cfc3b6f);\n",
       "        \n",
       "&lt;/script&gt;\n",
       "&lt;/html&gt;\" style=\"position:absolute;width:100%;height:100%;left:0;top:0;border:none !important;\" allowfullscreen webkitallowfullscreen mozallowfullscreen></iframe></div></div>"
      ],
      "text/plain": [
       "<folium.folium.Map at 0x1b2e84d1a10>"
      ]
     },
     "metadata": {},
     "output_type": "display_data"
    }
   ],
   "source": [
    "location = aoi.centroid().coordinates().getInfo()[::-1]\n",
    "\n",
    "# Make an RGB color composite image (VV,VH,VV/VH).\n",
    "rgb = ee.Image.rgb(MODIS_NVDI.select('EVI'),\n",
    "                   MODIS_NVDI.select('NDVI'),\n",
    "                   MODIS_NVDI.select('sur_refl_b02').divide(MODIS_NVDI.select('EVI')))\n",
    "\n",
    "# Create the map object.\n",
    "m = folium.Map(location=location, zoom_start=12)\n",
    "\n",
    "# Add the S1 rgb composite to the map object.\n",
    "m.add_ee_layer(rgb, {'min': [0, -20, 0], 'max': [0, 1, 1]}, 'Enhanced Vegetation Index')\n",
    "\n",
    "# Add a layer control panel to the map.\n",
    "m.add_child(folium.LayerControl())\n",
    "\n",
    "# Display the map.\n",
    "display(m)"
   ]
  },
  {
   "cell_type": "code",
   "execution_count": 23,
   "metadata": {},
   "outputs": [],
   "source": [
    "\n",
    "\n",
    "# Load a Sentinel-2 surface reflectance image collection and filter by location and date, and select the B8 band\n",
    "collection = ee.ImageCollection('MODIS/061/MOD13Q1') \\\n",
    "              .filterBounds(aoi) \\\n",
    "              .filterDate('2020-01-01', '2020-12-31') \\\n",
    "              .select('NDVI','EVI')\n",
    "\n",
    "# Get the first image in the collection and clip it to the AOI\n",
    "image = collection.first().clip(aoi)\n",
    "\n",
    "# Get the mean B8 value for all the pixels within the AOI\n",
    "NDVI_value = image.select('NDVI').reduceRegion(ee.Reducer.toList(), aoi, 30).get('NDVI')\n",
    "EVI_value = image.select('EVI').reduceRegion(ee.Reducer.toList(), aoi, 30).get('EVI')\n",
    "\n",
    "\n",
    "NDVI_value = np.array(NDVI_value.getInfo())/8000\n",
    "EVI_value = np.array(EVI_value.getInfo())/8000\n",
    "# # Print the mean B8 value\n",
    "# print('Mean B8 value: ', b8_value.getInfo())"
   ]
  },
  {
   "cell_type": "code",
   "execution_count": 24,
   "metadata": {},
   "outputs": [
    {
     "data": {
      "text/plain": [
       "array([0.87875 , 0.843   , 0.843   , ..., 1.000875, 1.000875, 1.000875])"
      ]
     },
     "execution_count": 24,
     "metadata": {},
     "output_type": "execute_result"
    }
   ],
   "source": [
    "NDVI_value"
   ]
  },
  {
   "cell_type": "code",
   "execution_count": 25,
   "metadata": {},
   "outputs": [
    {
     "data": {
      "text/plain": [
       "array([0.48825 , 0.47075 , 0.47075 , ..., 0.802625, 0.802625, 0.802625])"
      ]
     },
     "execution_count": 25,
     "metadata": {},
     "output_type": "execute_result"
    }
   ],
   "source": [
    "EVI_value"
   ]
  }
 ],
 "metadata": {
  "kernelspec": {
   "display_name": "Python 3",
   "language": "python",
   "name": "python3"
  },
  "language_info": {
   "codemirror_mode": {
    "name": "ipython",
    "version": 3
   },
   "file_extension": ".py",
   "mimetype": "text/x-python",
   "name": "python",
   "nbconvert_exporter": "python",
   "pygments_lexer": "ipython3",
   "version": "3.11.0"
  },
  "orig_nbformat": 4,
  "vscode": {
   "interpreter": {
    "hash": "554f92ad98831055254315a845b84ad857909171ef8b6f1bb29bea14ee500f5b"
   }
  }
 },
 "nbformat": 4,
 "nbformat_minor": 2
}
